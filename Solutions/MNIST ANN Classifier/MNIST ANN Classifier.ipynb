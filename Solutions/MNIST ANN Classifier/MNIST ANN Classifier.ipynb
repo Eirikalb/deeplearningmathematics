{
 "cells": [
  {
   "cell_type": "code",
   "execution_count": 1,
   "metadata": {},
   "outputs": [],
   "source": [
    "import tensorflow as tf\n",
    "import numpy as np"
   ]
  },
  {
   "cell_type": "code",
   "execution_count": 2,
   "metadata": {},
   "outputs": [],
   "source": [
    "import pickle\n",
    "def load():\n",
    "    with open(\"mnist/mnist.pkl\",'rb') as f:\n",
    "        mnist = pickle.load(f)\n",
    "    return mnist[\"training_images\"], mnist[\"training_labels\"], mnist[\"test_images\"], mnist[\"test_labels\"]\n",
    "training_images,training_y,test_images,test_y=load()"
   ]
  },
  {
   "cell_type": "code",
   "execution_count": 3,
   "metadata": {},
   "outputs": [
    {
     "name": "stdout",
     "output_type": "stream",
     "text": [
      "(60000, 784)\n",
      "(60000, 784)\n"
     ]
    }
   ],
   "source": [
    "print(training_images.shape)\n",
    "print(training_images.shape)\n",
    "n_train = training_images.shape[0]\n",
    "n_test = test_images.shape[0]"
   ]
  },
  {
   "cell_type": "code",
   "execution_count": 4,
   "metadata": {},
   "outputs": [],
   "source": [
    "def one_hot(labels):\n",
    "    \"\"\"\n",
    "    Encodes the labels as one-hot vectors. Zero is represented as 10 in SVHN.\n",
    "    [10] -> [1, 0, 0, 0, 0, 0, 0, 0, 0, 0]\n",
    "    [2] -> [0, 0, 1, 0, 0, 0, 0, 0, 0, 0]\n",
    "    \n",
    "    \"\"\"\n",
    "    labels = np.squeeze(labels)\n",
    "    one_hot_labels = []\n",
    "    for num in labels:\n",
    "        one_hot = [0.0] * 10\n",
    "        if num == 10:\n",
    "            one_hot[0] = 1.0\n",
    "        else:\n",
    "            one_hot[num] = 1.0\n",
    "        one_hot_labels.append(one_hot)\n",
    "    labels = np.array(one_hot_labels).astype(np.float32)\n",
    "    return labels"
   ]
  },
  {
   "cell_type": "code",
   "execution_count": 5,
   "metadata": {},
   "outputs": [],
   "source": [
    "training_labels_one_hot = one_hot(training_y)\n",
    "test_labels_one_hot = one_hot(test_y)"
   ]
  },
  {
   "cell_type": "code",
   "execution_count": 6,
   "metadata": {},
   "outputs": [
    {
     "name": "stdout",
     "output_type": "stream",
     "text": [
      "(60000, 10)\n",
      "(10000, 10)\n"
     ]
    }
   ],
   "source": [
    "print(training_labels_one_hot.shape)\n",
    "print(test_labels_one_hot.shape)"
   ]
  },
  {
   "cell_type": "code",
   "execution_count": 7,
   "metadata": {},
   "outputs": [],
   "source": [
    "class MNIST_MLP:\n",
    "    def __init__(self,wd_factor,learning_rate):\n",
    "        self.wd_factor=wd_factor\n",
    "        self.learning_rate=learning_rate\n",
    "        self.train_pointer = 0\n",
    "        self.test_pointer = 0\n",
    "        \n",
    "        self.sess = tf.Session()\n",
    "        \n",
    "        self.input = tf.placeholder(dtype=tf.float32, shape=[None, 784], name='input')\n",
    "        self.ground_truth = tf.placeholder(dtype=tf.float32, shape=[None, 10], name='ground_truth')\n",
    "        print(self.input)\n",
    "        \n",
    "        self._build_graph()\n",
    "    def _build_graph(self):\n",
    "        # Note to self, every graph needs to have a loss function.\n",
    "        weight=[]\n",
    "        \n",
    "        with tf.variable_scope(\"layers\"):\n",
    "            h = tf.layers.dense(self.input, 512, kernel_initializer=tf.glorot_uniform_initializer(), \n",
    "                                activation=tf.tanh, name='1')\n",
    "            print(h)\n",
    "            h = tf.layers.dense(h, 256, kernel_initializer=tf.glorot_uniform_initializer(), \n",
    "                                activation=tf.tanh, name='2')\n",
    "            print(h)\n",
    "            h = tf.layers.dense(h, 64, kernel_initializer=tf.glorot_uniform_initializer(), \n",
    "                                activation=tf.tanh, name='3')\n",
    "            print(h)\n",
    "            self.logits = tf.layers.dense(h, 10, kernel_initializer=tf.glorot_uniform_initializer(), \n",
    "                                          activation=tf.identity, name='4')\n",
    "            print(self.logits)\n",
    "            self.prediction = tf.nn.softmax(self.logits, name='softmax_prediction')\n",
    "            \n",
    "        with tf.name_scope('loss'):\n",
    "                self.loss = tf.reduce_mean(tf.nn.softmax_cross_entropy_with_logits_v2(logits=self.logits, \n",
    "                                                                                      labels=self.ground_truth))\n",
    "                self.loss += self.weight_decay()\n",
    "        self.optimizer = tf.train.AdamOptimizer(self.learning_rate)\n",
    "        self.train_op = self.optimizer.minimize(self.loss)\n",
    "        \n",
    "    def weight_decay(self):\n",
    "        loss = 0\n",
    "        for v in tf.global_variables():\n",
    "            if 'Adam' in v.name:\n",
    "                continue\n",
    "            elif 'kernel' in v.name:\n",
    "                loss += self.wd_factor * tf.nn.l2_loss(v)\n",
    "        print(loss)\n",
    "        return loss\n",
    "    \n",
    "    def train_minibatch(self, samples, labels, batch_size):\n",
    "        if self.train_pointer + batch_size <= samples.shape[0]:\n",
    "            samples_minibatch = samples[self.train_pointer: self.train_pointer + batch_size]\n",
    "            labels_minibatch = labels[self.train_pointer: self.train_pointer + batch_size]\n",
    "            self.train_pointer += batch_size\n",
    "        else:\n",
    "            samples_minibatch = samples[self.train_pointer:]\n",
    "            labels_minibatch = labels[self.train_pointer: self.train_pointer + batch_size]\n",
    "            self.train_pointer = 0\n",
    "        return samples_minibatch, labels_minibatch\n",
    "    \n",
    "    def train(self, train_samples, train_labels, train_batch_size, iteration_steps):\n",
    "        self.sess.run(tf.global_variables_initializer())\n",
    "\n",
    "        print('Start Training')\n",
    "        losses = []\n",
    "        for i in range(iteration_steps):\n",
    "            samples, labels = self.train_minibatch(train_samples, train_labels, train_batch_size)\n",
    "            feed_dict = {self.input: samples, self.ground_truth: labels}\n",
    "            _, loss = self.sess.run([self.train_op, self.loss], feed_dict=feed_dict)\n",
    "            if i % 50 == 0:\n",
    "                print(\"Minibatch loss at step {}: {}\".format(i, loss))\n",
    "                losses.append([i, loss])\n",
    "        return losses\n",
    "    \n",
    "    def test_minibatch(self, samples, labels, batch_size):\n",
    "        if self.test_pointer + batch_size <= samples.shape[0]:\n",
    "            samples_minibatch = samples[self.test_pointer: self.test_pointer + batch_size]\n",
    "            labels_minibatch = labels[self.test_pointer: self.test_pointer + batch_size]\n",
    "            self.test_pointer += batch_size\n",
    "            end_of_epoch = False\n",
    "        else:\n",
    "            samples_minibatch = samples[self.test_pointer:]\n",
    "            labels_minibatch = labels[self.test_pointer: self.test_pointer + batch_size]\n",
    "            self.test_pointer = 0\n",
    "            end_of_epoch = True\n",
    "        return samples_minibatch, labels_minibatch, end_of_epoch\n",
    "            \n",
    "    def test(self, test_samples, test_labels, test_batch_size):\n",
    "        end_of_epoch = False\n",
    "        losses = []\n",
    "        while not end_of_epoch:\n",
    "            samples, labels, end_of_epoch = self.test_minibatch(test_samples, test_labels, test_batch_size)\n",
    "            feed_dict = {self.input: samples, self.ground_truth: labels}\n",
    "            losses.append(self.sess.run(self.loss, feed_dict=feed_dict))  \n",
    "        print(\"Average test loss: {}\".format(np.mean(losses)))"
   ]
  },
  {
   "cell_type": "code",
   "execution_count": 8,
   "metadata": {},
   "outputs": [
    {
     "name": "stdout",
     "output_type": "stream",
     "text": [
      "Tensor(\"input:0\", shape=(?, 784), dtype=float32)\n",
      "Tensor(\"layers/1/Tanh:0\", shape=(?, 512), dtype=float32)\n",
      "Tensor(\"layers/2/Tanh:0\", shape=(?, 256), dtype=float32)\n",
      "Tensor(\"layers/3/Tanh:0\", shape=(?, 64), dtype=float32)\n",
      "Tensor(\"layers/4/Identity:0\", shape=(?, 10), dtype=float32)\n",
      "Tensor(\"loss/add_3:0\", shape=(), dtype=float32)\n"
     ]
    }
   ],
   "source": [
    "WD_FACTOR = 0.0001\n",
    "LEARNING_RATE = 0.001\n",
    "model = MNIST_MLP(WD_FACTOR, LEARNING_RATE)"
   ]
  },
  {
   "cell_type": "code",
   "execution_count": 9,
   "metadata": {},
   "outputs": [
    {
     "data": {
      "text/plain": [
       "[<tf.Variable 'layers/1/kernel:0' shape=(784, 512) dtype=float32_ref>,\n",
       " <tf.Variable 'layers/1/bias:0' shape=(512,) dtype=float32_ref>,\n",
       " <tf.Variable 'layers/2/kernel:0' shape=(512, 256) dtype=float32_ref>,\n",
       " <tf.Variable 'layers/2/bias:0' shape=(256,) dtype=float32_ref>,\n",
       " <tf.Variable 'layers/3/kernel:0' shape=(256, 64) dtype=float32_ref>,\n",
       " <tf.Variable 'layers/3/bias:0' shape=(64,) dtype=float32_ref>,\n",
       " <tf.Variable 'layers/4/kernel:0' shape=(64, 10) dtype=float32_ref>,\n",
       " <tf.Variable 'layers/4/bias:0' shape=(10,) dtype=float32_ref>,\n",
       " <tf.Variable 'beta1_power:0' shape=() dtype=float32_ref>,\n",
       " <tf.Variable 'beta2_power:0' shape=() dtype=float32_ref>,\n",
       " <tf.Variable 'layers/1/kernel/Adam:0' shape=(784, 512) dtype=float32_ref>,\n",
       " <tf.Variable 'layers/1/kernel/Adam_1:0' shape=(784, 512) dtype=float32_ref>,\n",
       " <tf.Variable 'layers/1/bias/Adam:0' shape=(512,) dtype=float32_ref>,\n",
       " <tf.Variable 'layers/1/bias/Adam_1:0' shape=(512,) dtype=float32_ref>,\n",
       " <tf.Variable 'layers/2/kernel/Adam:0' shape=(512, 256) dtype=float32_ref>,\n",
       " <tf.Variable 'layers/2/kernel/Adam_1:0' shape=(512, 256) dtype=float32_ref>,\n",
       " <tf.Variable 'layers/2/bias/Adam:0' shape=(256,) dtype=float32_ref>,\n",
       " <tf.Variable 'layers/2/bias/Adam_1:0' shape=(256,) dtype=float32_ref>,\n",
       " <tf.Variable 'layers/3/kernel/Adam:0' shape=(256, 64) dtype=float32_ref>,\n",
       " <tf.Variable 'layers/3/kernel/Adam_1:0' shape=(256, 64) dtype=float32_ref>,\n",
       " <tf.Variable 'layers/3/bias/Adam:0' shape=(64,) dtype=float32_ref>,\n",
       " <tf.Variable 'layers/3/bias/Adam_1:0' shape=(64,) dtype=float32_ref>,\n",
       " <tf.Variable 'layers/4/kernel/Adam:0' shape=(64, 10) dtype=float32_ref>,\n",
       " <tf.Variable 'layers/4/kernel/Adam_1:0' shape=(64, 10) dtype=float32_ref>,\n",
       " <tf.Variable 'layers/4/bias/Adam:0' shape=(10,) dtype=float32_ref>,\n",
       " <tf.Variable 'layers/4/bias/Adam_1:0' shape=(10,) dtype=float32_ref>]"
      ]
     },
     "execution_count": 9,
     "metadata": {},
     "output_type": "execute_result"
    }
   ],
   "source": [
    "tf.global_variables()"
   ]
  },
  {
   "cell_type": "code",
   "execution_count": 10,
   "metadata": {},
   "outputs": [
    {
     "name": "stdout",
     "output_type": "stream",
     "text": [
      "Start Training\n",
      "Minibatch loss at step 0: 2.5893704891204834\n",
      "Minibatch loss at step 50: 0.4599913954734802\n",
      "Minibatch loss at step 100: 0.4006670415401459\n",
      "Minibatch loss at step 150: 0.3112812638282776\n",
      "Minibatch loss at step 200: 0.3728976845741272\n",
      "Minibatch loss at step 250: 0.4275567829608917\n",
      "Minibatch loss at step 300: 0.4380576014518738\n",
      "Minibatch loss at step 350: 0.49965518712997437\n",
      "Minibatch loss at step 400: 0.5393694043159485\n",
      "Minibatch loss at step 450: 0.4253903329372406\n",
      "Minibatch loss at step 500: 0.29003408551216125\n",
      "Minibatch loss at step 550: 0.2760825455188751\n",
      "Minibatch loss at step 600: 0.28606799244880676\n",
      "Minibatch loss at step 650: 0.3441838324069977\n",
      "Minibatch loss at step 700: 0.30607178807258606\n",
      "Minibatch loss at step 750: 0.4323057532310486\n",
      "Minibatch loss at step 800: 0.5385947823524475\n",
      "Minibatch loss at step 850: 0.19423958659172058\n",
      "Minibatch loss at step 900: 0.3109782934188843\n",
      "Minibatch loss at step 950: 0.3662281334400177\n",
      "Minibatch loss at step 1000: 0.39752230048179626\n",
      "Minibatch loss at step 1050: 0.47083383798599243\n",
      "Minibatch loss at step 1100: 0.37306466698646545\n",
      "Minibatch loss at step 1150: 0.4619389772415161\n",
      "Minibatch loss at step 1200: 0.22135165333747864\n",
      "Minibatch loss at step 1250: 0.2882917821407318\n",
      "Minibatch loss at step 1300: 0.36596572399139404\n",
      "Minibatch loss at step 1350: 0.41030046343803406\n",
      "Minibatch loss at step 1400: 0.1760208010673523\n",
      "Minibatch loss at step 1450: 0.2849084734916687\n",
      "Minibatch loss at step 1500: 0.2837092876434326\n",
      "Minibatch loss at step 1550: 0.2599845230579376\n",
      "Minibatch loss at step 1600: 0.39257723093032837\n",
      "Minibatch loss at step 1650: 0.36082732677459717\n",
      "Minibatch loss at step 1700: 0.35450416803359985\n",
      "Minibatch loss at step 1750: 0.3068332374095917\n",
      "Minibatch loss at step 1800: 0.5225452184677124\n",
      "Minibatch loss at step 1850: 0.22450381517410278\n",
      "Minibatch loss at step 1900: 0.13830332458019257\n",
      "Minibatch loss at step 1950: 0.3127288520336151\n",
      "Minibatch loss at step 2000: 0.4177805781364441\n",
      "Minibatch loss at step 2050: 0.24223318696022034\n",
      "Minibatch loss at step 2100: 0.23532618582248688\n",
      "Minibatch loss at step 2150: 0.2596655488014221\n",
      "Minibatch loss at step 2200: 0.3066329061985016\n",
      "Minibatch loss at step 2250: 0.36142420768737793\n",
      "Minibatch loss at step 2300: 0.25350698828697205\n",
      "Minibatch loss at step 2350: 0.29333800077438354\n",
      "Minibatch loss at step 2400: 0.2355133593082428\n",
      "Minibatch loss at step 2450: 0.24663978815078735\n",
      "Minibatch loss at step 2500: 0.2652314305305481\n",
      "Minibatch loss at step 2550: 0.2683291733264923\n",
      "Minibatch loss at step 2600: 0.29549407958984375\n",
      "Minibatch loss at step 2650: 0.23067408800125122\n",
      "Minibatch loss at step 2700: 0.39218902587890625\n",
      "Minibatch loss at step 2750: 0.19041180610656738\n",
      "Minibatch loss at step 2800: 0.1664276123046875\n",
      "Minibatch loss at step 2850: 0.2500167191028595\n",
      "Minibatch loss at step 2900: 0.20963312685489655\n",
      "Minibatch loss at step 2950: 0.24695992469787598\n",
      "Minibatch loss at step 3000: 0.32927319407463074\n",
      "Minibatch loss at step 3050: 0.2864885628223419\n",
      "Minibatch loss at step 3100: 0.30906882882118225\n",
      "Minibatch loss at step 3150: 0.32236918807029724\n",
      "Minibatch loss at step 3200: 0.36746448278427124\n",
      "Minibatch loss at step 3250: 0.30461928248405457\n",
      "Minibatch loss at step 3300: 0.1835142821073532\n",
      "Minibatch loss at step 3350: 0.31083476543426514\n",
      "Minibatch loss at step 3400: 0.23406170308589935\n",
      "Minibatch loss at step 3450: 0.19837796688079834\n",
      "Minibatch loss at step 3500: 0.19293054938316345\n",
      "Minibatch loss at step 3550: 0.14419881999492645\n",
      "Minibatch loss at step 3600: 0.22084593772888184\n",
      "Minibatch loss at step 3650: 0.24513362348079681\n",
      "Minibatch loss at step 3700: 0.21932828426361084\n",
      "Minibatch loss at step 3750: 0.11622563749551773\n",
      "Minibatch loss at step 3800: 0.17786777019500732\n",
      "Minibatch loss at step 3850: 0.4360366463661194\n",
      "Minibatch loss at step 3900: 0.18670925498008728\n",
      "Minibatch loss at step 3950: 0.1776944100856781\n",
      "Minibatch loss at step 4000: 0.2704889178276062\n",
      "Minibatch loss at step 4050: 0.20827031135559082\n",
      "Minibatch loss at step 4100: 0.21144352853298187\n",
      "Minibatch loss at step 4150: 0.13779115676879883\n",
      "Minibatch loss at step 4200: 0.22183525562286377\n",
      "Minibatch loss at step 4250: 0.21443817019462585\n",
      "Minibatch loss at step 4300: 0.363108366727829\n",
      "Minibatch loss at step 4350: 0.35823139548301697\n",
      "Minibatch loss at step 4400: 0.1647346317768097\n",
      "Minibatch loss at step 4450: 0.34395986795425415\n",
      "Minibatch loss at step 4500: 0.17807646095752716\n",
      "Minibatch loss at step 4550: 0.49196353554725647\n",
      "Minibatch loss at step 4600: 0.27319416403770447\n",
      "Minibatch loss at step 4650: 0.3703126907348633\n",
      "Minibatch loss at step 4700: 0.32812416553497314\n",
      "Minibatch loss at step 4750: 0.22716939449310303\n",
      "Minibatch loss at step 4800: 0.184366837143898\n",
      "Minibatch loss at step 4850: 0.24113261699676514\n",
      "Minibatch loss at step 4900: 0.23616856336593628\n",
      "Minibatch loss at step 4950: 0.2727622985839844\n",
      "Minibatch loss at step 5000: 0.2536296546459198\n",
      "Minibatch loss at step 5050: 0.33495503664016724\n",
      "Minibatch loss at step 5100: 0.16583779454231262\n",
      "Minibatch loss at step 5150: 0.14320749044418335\n",
      "Minibatch loss at step 5200: 0.29533761739730835\n",
      "Minibatch loss at step 5250: 0.30165985226631165\n",
      "Minibatch loss at step 5300: 0.16692104935646057\n",
      "Minibatch loss at step 5350: 0.24552351236343384\n",
      "Minibatch loss at step 5400: 0.2326413094997406\n",
      "Minibatch loss at step 5450: 0.34549999237060547\n",
      "Minibatch loss at step 5500: 0.22493058443069458\n",
      "Minibatch loss at step 5550: 0.23278406262397766\n",
      "Minibatch loss at step 5600: 0.21966210007667542\n",
      "Minibatch loss at step 5650: 0.21336562931537628\n",
      "Minibatch loss at step 5700: 0.2750881612300873\n",
      "Minibatch loss at step 5750: 0.3423182964324951\n",
      "Minibatch loss at step 5800: 0.24421629309654236\n",
      "Minibatch loss at step 5850: 0.274242103099823\n",
      "Minibatch loss at step 5900: 0.36869513988494873\n",
      "Minibatch loss at step 5950: 0.4419786036014557\n",
      "Minibatch loss at step 6000: 0.26309776306152344\n",
      "Minibatch loss at step 6050: 0.27242767810821533\n",
      "Minibatch loss at step 6100: 0.27639082074165344\n",
      "Minibatch loss at step 6150: 0.2973449230194092\n",
      "Minibatch loss at step 6200: 0.26472312211990356\n",
      "Minibatch loss at step 6250: 0.1900000274181366\n",
      "Minibatch loss at step 6300: 0.18392816185951233\n",
      "Minibatch loss at step 6350: 0.37641072273254395\n",
      "Minibatch loss at step 6400: 0.1981191188097\n",
      "Minibatch loss at step 6450: 0.2056499719619751\n",
      "Minibatch loss at step 6500: 0.18403226137161255\n",
      "Minibatch loss at step 6550: 0.1860930174589157\n",
      "Minibatch loss at step 6600: 0.29312801361083984\n",
      "Minibatch loss at step 6650: 0.3070315420627594\n",
      "Minibatch loss at step 6700: 0.31446465849876404\n",
      "Minibatch loss at step 6750: 0.25460904836654663\n",
      "Minibatch loss at step 6800: 0.3901126980781555\n",
      "Minibatch loss at step 6850: 0.28595584630966187\n",
      "Minibatch loss at step 6900: 0.39959752559661865\n",
      "Minibatch loss at step 6950: 0.26661452651023865\n",
      "Minibatch loss at step 7000: 0.19811837375164032\n",
      "Minibatch loss at step 7050: 0.27491995692253113\n",
      "Minibatch loss at step 7100: 0.2071308195590973\n",
      "Minibatch loss at step 7150: 0.4078123867511749\n",
      "Minibatch loss at step 7200: 0.23392844200134277\n",
      "Minibatch loss at step 7250: 0.2773473858833313\n",
      "Minibatch loss at step 7300: 0.16555969417095184\n",
      "Minibatch loss at step 7350: 0.20283541083335876\n",
      "Minibatch loss at step 7400: 0.28698939085006714\n",
      "Minibatch loss at step 7450: 0.2065979540348053\n",
      "Minibatch loss at step 7500: 0.1771809458732605\n",
      "Minibatch loss at step 7550: 0.19544029235839844\n",
      "Minibatch loss at step 7600: 0.2921651601791382\n",
      "Minibatch loss at step 7650: 0.19320249557495117\n",
      "Minibatch loss at step 7700: 0.3077220618724823\n",
      "Minibatch loss at step 7750: 0.2340884804725647\n",
      "Minibatch loss at step 7800: 0.20285077393054962\n",
      "Minibatch loss at step 7850: 0.23283058404922485\n",
      "Minibatch loss at step 7900: 0.37519627809524536\n",
      "Minibatch loss at step 7950: 0.15284846723079681\n",
      "Minibatch loss at step 8000: 0.23117806017398834\n",
      "Minibatch loss at step 8050: 0.23197005689144135\n",
      "Minibatch loss at step 8100: 0.24873358011245728\n",
      "Minibatch loss at step 8150: 0.2965732216835022\n",
      "Minibatch loss at step 8200: 0.2573162019252777\n",
      "Minibatch loss at step 8250: 0.29556310176849365\n",
      "Minibatch loss at step 8300: 0.17680135369300842\n",
      "Minibatch loss at step 8350: 0.31729426980018616\n",
      "Minibatch loss at step 8400: 0.22402232885360718\n"
     ]
    },
    {
     "name": "stdout",
     "output_type": "stream",
     "text": [
      "Minibatch loss at step 8450: 0.45135733485221863\n",
      "Minibatch loss at step 8500: 0.19930365681648254\n",
      "Minibatch loss at step 8550: 0.26859286427497864\n",
      "Minibatch loss at step 8600: 0.23168587684631348\n",
      "Minibatch loss at step 8650: 0.34328708052635193\n",
      "Minibatch loss at step 8700: 0.21304593980312347\n",
      "Minibatch loss at step 8750: 0.23076696693897247\n",
      "Minibatch loss at step 8800: 0.2164384126663208\n",
      "Minibatch loss at step 8850: 0.3420189917087555\n",
      "Minibatch loss at step 8900: 0.16618993878364563\n",
      "Minibatch loss at step 8950: 0.21275189518928528\n",
      "Minibatch loss at step 9000: 0.21264201402664185\n",
      "Minibatch loss at step 9050: 0.2818527817726135\n",
      "Minibatch loss at step 9100: 0.309236079454422\n",
      "Minibatch loss at step 9150: 0.24053265154361725\n",
      "Minibatch loss at step 9200: 0.30570346117019653\n",
      "Minibatch loss at step 9250: 0.20378762483596802\n",
      "Minibatch loss at step 9300: 0.3028949797153473\n",
      "Minibatch loss at step 9350: 0.29241204261779785\n",
      "Minibatch loss at step 9400: 0.20058000087738037\n",
      "Minibatch loss at step 9450: 0.15172454714775085\n",
      "Minibatch loss at step 9500: 0.21423768997192383\n",
      "Minibatch loss at step 9550: 0.14326873421669006\n",
      "Minibatch loss at step 9600: 0.29030245542526245\n",
      "Minibatch loss at step 9650: 0.24015292525291443\n",
      "Minibatch loss at step 9700: 0.19332078099250793\n",
      "Minibatch loss at step 9750: 0.2310856580734253\n",
      "Minibatch loss at step 9800: 0.24699270725250244\n",
      "Minibatch loss at step 9850: 0.22612835466861725\n",
      "Minibatch loss at step 9900: 0.19359472393989563\n",
      "Minibatch loss at step 9950: 0.2404516637325287\n",
      "Training time: 35.906583070755005s\n"
     ]
    }
   ],
   "source": [
    "TRAIN_BATCH_SIZE = 128\n",
    "ITERATIONS = 10000\n",
    "\n",
    "import time\n",
    "start_time = time.time()\n",
    "\n",
    "losses = model.train(training_images, training_labels_one_hot, TRAIN_BATCH_SIZE, ITERATIONS)\n",
    "\n",
    "end_time = time.time()\n",
    "training_time=end_time-start_time\n",
    "print(\"Training time: {}s\".format(training_time))"
   ]
  },
  {
   "cell_type": "code",
   "execution_count": 11,
   "metadata": {},
   "outputs": [
    {
     "name": "stdout",
     "output_type": "stream",
     "text": [
      "(200, 2)\n"
     ]
    }
   ],
   "source": [
    "training_losses = np.array(losses)\n",
    "print(training_losses.shape)"
   ]
  },
  {
   "cell_type": "code",
   "execution_count": 13,
   "metadata": {},
   "outputs": [
    {
     "data": {
      "image/png": "[encoded data removed]",
      "text/plain": [
       "<Figure size 720x360 with 1 Axes>"
      ]
     },
     "metadata": {
      "needs_background": "light"
     },
     "output_type": "display_data"
    }
   ],
   "source": [
    "import matplotlib.pyplot as plt\n",
    "\n",
    "iterations = training_losses[:, 0]\n",
    "train_loss = training_losses[:, 1]\n",
    "plt.figure(figsize=(10, 5))\n",
    "plt.plot(iterations, train_loss)\n",
    "plt.xlabel(\"Iterations\")\n",
    "plt.ylabel(\"Loss\")\n",
    "plt.title(\"Training curve\")\n",
    "plt.show()"
   ]
  },
  {
   "cell_type": "code",
   "execution_count": 14,
   "metadata": {},
   "outputs": [
    {
     "name": "stdout",
     "output_type": "stream",
     "text": [
      "Average test loss: 0.24097123742103577\n"
     ]
    }
   ],
   "source": [
    "TEST_BATCH_SIZE = 128\n",
    "\n",
    "model.test(test_images, test_labels_one_hot, TEST_BATCH_SIZE)"
   ]
  },
  {
   "cell_type": "code",
   "execution_count": 15,
   "metadata": {},
   "outputs": [
    {
     "name": "stdout",
     "output_type": "stream",
     "text": [
      "Test sample digit: 9\n"
     ]
    },
    {
     "data": {
      "image/png": "[encoded data removed]",
      "text/plain": [
       "<Figure size 1224x360 with 2 Axes>"
      ]
     },
     "metadata": {
      "needs_background": "light"
     },
     "output_type": "display_data"
    },
    {
     "name": "stdout",
     "output_type": "stream",
     "text": [
      "Network prediction probabilities:\n",
      "[2.1048593e-06 5.2367591e-06 2.5063709e-06 6.4394379e-04 3.3522721e-03\n",
      " 2.0635316e-04 2.7809654e-07 6.2105583e-04 5.8331835e-04 9.9458295e-01]\n"
     ]
    }
   ],
   "source": [
    "example = np.random.choice(np.arange(n_test))\n",
    "\n",
    "sample = np.expand_dims(test_images[example], axis=0)\n",
    "label = np.expand_dims(test_labels_one_hot[example], axis=0)\n",
    "\n",
    "digit = np.where(label[0]==1.0)[0][0]\n",
    "\n",
    "feed_dict = {model.input: sample, model.ground_truth: label}\n",
    "prediction = model.sess.run(model.prediction, feed_dict=feed_dict)[0]\n",
    "\n",
    "image = np.reshape(sample, (28, 28))\n",
    "\n",
    "print(\"Test sample digit: {}\".format(digit))\n",
    "fig, ax = plt.subplots(1, 2, figsize=(17, 5))\n",
    "ax[0].imshow(image, cmap='gray')\n",
    "ax[0].set_title(\"Test example\")\n",
    "\n",
    "classes = np.arange(10)\n",
    "width = 1.0\n",
    "\n",
    "#fig, ax = plt.subplots()\n",
    "ax[1].bar(classes, prediction, width, color='Blue')\n",
    "ax[1].set_ylabel('Probabilities')\n",
    "ax[1].set_title('Network categorical distribution')\n",
    "ax[1].set_xticks(classes)\n",
    "ax[1].set_xticklabels(('0', '1', '2', '3', '4', '5', '6', '7', '8', '9'))\n",
    "ax[1].set_xlabel('Digit class')\n",
    "\n",
    "plt.show()\n",
    "\n",
    "print(\"Network prediction probabilities:\")\n",
    "print(prediction)"
   ]
  },
  {
   "cell_type": "code",
   "execution_count": 16,
   "metadata": {},
   "outputs": [
    {
     "name": "stdout",
     "output_type": "stream",
     "text": [
      "0.2543278409540653\n"
     ]
    }
   ],
   "source": [
    "#Calculating average loss for last 100 minibatches \n",
    "total_training_loss=0\n",
    "i=0\n",
    "for loss in training_losses:\n",
    "    i+=1\n",
    "    if i>100:\n",
    "        total_training_loss+=loss[1]\n",
    "print(total_training_loss/100)\n"
   ]
  },
  {
   "cell_type": "code",
   "execution_count": 17,
   "metadata": {},
   "outputs": [
    {
     "name": "stdout",
     "output_type": "stream",
     "text": [
      "Average test loss: 0.24097123742103577\n"
     ]
    }
   ],
   "source": [
    "TEST_BATCH_SIZE = 128\n",
    "\n",
    "model.test(test_images, test_labels_one_hot, TEST_BATCH_SIZE)"
   ]
  },
  {
   "cell_type": "code",
   "execution_count": 18,
   "metadata": {},
   "outputs": [
    {
     "name": "stdout",
     "output_type": "stream",
     "text": [
      "The model took 35.906583070755005 seconds to train\n"
     ]
    }
   ],
   "source": [
    "print(\"The model took {} seconds to train\".format(training_time))"
   ]
  },
  {
   "cell_type": "markdown",
   "metadata": {},
   "source": [
    "The variables can mean a lot of things, so I assumed that you meant internal weights, as these are the variables we are tuning. In that case the number 6.5 X 10¹⁰ was calculated by taking 784 X 512 x 256 X 64 X 10. This is obviosly wrong as the correct answer is 784 X 512 +512x256 +256x64 + 64x10 = 549504."
   ]
  },
  {
   "cell_type": "markdown",
   "metadata": {},
   "source": [
    "# Conclusion\n",
    "\n",
    "This model quickly converged to a good solution, I would argue already after one batch training. It has generalized, as can be seen from the similarity between the training_loss average and the test_batch average loss. As I have a fast computer, and this model was relatively small, training did not take longer than 36 seconds, which obviously is really good. \n",
    "\n",
    "The assignment asks for the number of variables, which can mean a lot of things, so I assumed that this signified  internal weights as these are the variables we are tuning. In that case the number 6.5 X 10¹⁰ was calculated by taking 784 X 512 x 256 X 64 X 10 at first. This is obviosly completely wrong as the correct answer is 784 X 512 +512x256 +256x64 + 64x10 = 549504.\n",
    "Hope you have a lovely week. "
   ]
  },
  {
   "cell_type": "code",
   "execution_count": null,
   "metadata": {},
   "outputs": [],
   "source": []
  }
 ],
 "metadata": {
  "kernelspec": {
   "display_name": "Python 3",
   "language": "python",
   "name": "python3"
  },
  "language_info": {
   "codemirror_mode": {
    "name": "ipython",
    "version": 3
   },
   "file_extension": ".py",
   "mimetype": "text/x-python",
   "name": "python",
   "nbconvert_exporter": "python",
   "pygments_lexer": "ipython3",
   "version": "3.6.6"
  }
 },
 "nbformat": 4,
 "nbformat_minor": 2
}
